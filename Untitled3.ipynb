{
  "nbformat": 4,
  "nbformat_minor": 0,
  "metadata": {
    "colab": {
      "provenance": []
    },
    "kernelspec": {
      "name": "python3",
      "display_name": "Python 3"
    },
    "language_info": {
      "name": "python"
    }
  },
  "cells": [
    {
      "cell_type": "code",
      "execution_count": null,
      "metadata": {
        "id": "kyUlWXUuR0wz",
        "colab": {
          "base_uri": "https://localhost:8080/",
          "height": 600
        },
        "outputId": "038e71d7-9516-4683-f321-090f2633d301"
      },
      "outputs": [
        {
          "output_type": "execute_result",
          "data": {
            "text/plain": [
              "       Airline Date_of_Journey    Source Destination                  Route  \\\n",
              "0       IndiGo      24-03-2019  Banglore   New Delhi              BLR ? DEL   \n",
              "1    Air India      01-05-2019   Kolkata    Banglore  CCU ? IXR ? BBI ? BLR   \n",
              "2  Jet Airways      09-06-2019     Delhi      Cochin  DEL ? LKO ? BOM ? COK   \n",
              "3       IndiGo      12-05-2019   Kolkata    Banglore        CCU ? NAG ? BLR   \n",
              "4       IndiGo      01-03-2019  Banglore   New Delhi        BLR ? NAG ? DEL   \n",
              "\n",
              "  Dep_Time      Arrival_Time Duration Total_Stops Additional_Info  Price  \n",
              "0    22:20  22-03-2023 01:10   2h 50m    non-stop         No info   3897  \n",
              "1    05:50             13:15   7h 25m     2 stops         No info   7662  \n",
              "2    09:25  10-06-2023 04:25      19h     2 stops         No info  13882  \n",
              "3    18:05             23:30   5h 25m      1 stop         No info   6218  \n",
              "4    16:50             21:35   4h 45m      1 stop         No info  13302  "
            ],
            "text/html": [
              "\n",
              "  <div id=\"df-375ef4e1-4bb8-48ef-a4b9-673fc5f6ef07\">\n",
              "    <div class=\"colab-df-container\">\n",
              "      <div>\n",
              "<style scoped>\n",
              "    .dataframe tbody tr th:only-of-type {\n",
              "        vertical-align: middle;\n",
              "    }\n",
              "\n",
              "    .dataframe tbody tr th {\n",
              "        vertical-align: top;\n",
              "    }\n",
              "\n",
              "    .dataframe thead th {\n",
              "        text-align: right;\n",
              "    }\n",
              "</style>\n",
              "<table border=\"1\" class=\"dataframe\">\n",
              "  <thead>\n",
              "    <tr style=\"text-align: right;\">\n",
              "      <th></th>\n",
              "      <th>Airline</th>\n",
              "      <th>Date_of_Journey</th>\n",
              "      <th>Source</th>\n",
              "      <th>Destination</th>\n",
              "      <th>Route</th>\n",
              "      <th>Dep_Time</th>\n",
              "      <th>Arrival_Time</th>\n",
              "      <th>Duration</th>\n",
              "      <th>Total_Stops</th>\n",
              "      <th>Additional_Info</th>\n",
              "      <th>Price</th>\n",
              "    </tr>\n",
              "  </thead>\n",
              "  <tbody>\n",
              "    <tr>\n",
              "      <th>0</th>\n",
              "      <td>IndiGo</td>\n",
              "      <td>24-03-2019</td>\n",
              "      <td>Banglore</td>\n",
              "      <td>New Delhi</td>\n",
              "      <td>BLR ? DEL</td>\n",
              "      <td>22:20</td>\n",
              "      <td>22-03-2023 01:10</td>\n",
              "      <td>2h 50m</td>\n",
              "      <td>non-stop</td>\n",
              "      <td>No info</td>\n",
              "      <td>3897</td>\n",
              "    </tr>\n",
              "    <tr>\n",
              "      <th>1</th>\n",
              "      <td>Air India</td>\n",
              "      <td>01-05-2019</td>\n",
              "      <td>Kolkata</td>\n",
              "      <td>Banglore</td>\n",
              "      <td>CCU ? IXR ? BBI ? BLR</td>\n",
              "      <td>05:50</td>\n",
              "      <td>13:15</td>\n",
              "      <td>7h 25m</td>\n",
              "      <td>2 stops</td>\n",
              "      <td>No info</td>\n",
              "      <td>7662</td>\n",
              "    </tr>\n",
              "    <tr>\n",
              "      <th>2</th>\n",
              "      <td>Jet Airways</td>\n",
              "      <td>09-06-2019</td>\n",
              "      <td>Delhi</td>\n",
              "      <td>Cochin</td>\n",
              "      <td>DEL ? LKO ? BOM ? COK</td>\n",
              "      <td>09:25</td>\n",
              "      <td>10-06-2023 04:25</td>\n",
              "      <td>19h</td>\n",
              "      <td>2 stops</td>\n",
              "      <td>No info</td>\n",
              "      <td>13882</td>\n",
              "    </tr>\n",
              "    <tr>\n",
              "      <th>3</th>\n",
              "      <td>IndiGo</td>\n",
              "      <td>12-05-2019</td>\n",
              "      <td>Kolkata</td>\n",
              "      <td>Banglore</td>\n",
              "      <td>CCU ? NAG ? BLR</td>\n",
              "      <td>18:05</td>\n",
              "      <td>23:30</td>\n",
              "      <td>5h 25m</td>\n",
              "      <td>1 stop</td>\n",
              "      <td>No info</td>\n",
              "      <td>6218</td>\n",
              "    </tr>\n",
              "    <tr>\n",
              "      <th>4</th>\n",
              "      <td>IndiGo</td>\n",
              "      <td>01-03-2019</td>\n",
              "      <td>Banglore</td>\n",
              "      <td>New Delhi</td>\n",
              "      <td>BLR ? NAG ? DEL</td>\n",
              "      <td>16:50</td>\n",
              "      <td>21:35</td>\n",
              "      <td>4h 45m</td>\n",
              "      <td>1 stop</td>\n",
              "      <td>No info</td>\n",
              "      <td>13302</td>\n",
              "    </tr>\n",
              "  </tbody>\n",
              "</table>\n",
              "</div>\n",
              "      <button class=\"colab-df-convert\" onclick=\"convertToInteractive('df-375ef4e1-4bb8-48ef-a4b9-673fc5f6ef07')\"\n",
              "              title=\"Convert this dataframe to an interactive table.\"\n",
              "              style=\"display:none;\">\n",
              "        \n",
              "  <svg xmlns=\"http://www.w3.org/2000/svg\" height=\"24px\"viewBox=\"0 0 24 24\"\n",
              "       width=\"24px\">\n",
              "    <path d=\"M0 0h24v24H0V0z\" fill=\"none\"/>\n",
              "    <path d=\"M18.56 5.44l.94 2.06.94-2.06 2.06-.94-2.06-.94-.94-2.06-.94 2.06-2.06.94zm-11 1L8.5 8.5l.94-2.06 2.06-.94-2.06-.94L8.5 2.5l-.94 2.06-2.06.94zm10 10l.94 2.06.94-2.06 2.06-.94-2.06-.94-.94-2.06-.94 2.06-2.06.94z\"/><path d=\"M17.41 7.96l-1.37-1.37c-.4-.4-.92-.59-1.43-.59-.52 0-1.04.2-1.43.59L10.3 9.45l-7.72 7.72c-.78.78-.78 2.05 0 2.83L4 21.41c.39.39.9.59 1.41.59.51 0 1.02-.2 1.41-.59l7.78-7.78 2.81-2.81c.8-.78.8-2.07 0-2.86zM5.41 20L4 18.59l7.72-7.72 1.47 1.35L5.41 20z\"/>\n",
              "  </svg>\n",
              "      </button>\n",
              "      \n",
              "  <style>\n",
              "    .colab-df-container {\n",
              "      display:flex;\n",
              "      flex-wrap:wrap;\n",
              "      gap: 12px;\n",
              "    }\n",
              "\n",
              "    .colab-df-convert {\n",
              "      background-color: #E8F0FE;\n",
              "      border: none;\n",
              "      border-radius: 50%;\n",
              "      cursor: pointer;\n",
              "      display: none;\n",
              "      fill: #1967D2;\n",
              "      height: 32px;\n",
              "      padding: 0 0 0 0;\n",
              "      width: 32px;\n",
              "    }\n",
              "\n",
              "    .colab-df-convert:hover {\n",
              "      background-color: #E2EBFA;\n",
              "      box-shadow: 0px 1px 2px rgba(60, 64, 67, 0.3), 0px 1px 3px 1px rgba(60, 64, 67, 0.15);\n",
              "      fill: #174EA6;\n",
              "    }\n",
              "\n",
              "    [theme=dark] .colab-df-convert {\n",
              "      background-color: #3B4455;\n",
              "      fill: #D2E3FC;\n",
              "    }\n",
              "\n",
              "    [theme=dark] .colab-df-convert:hover {\n",
              "      background-color: #434B5C;\n",
              "      box-shadow: 0px 1px 3px 1px rgba(0, 0, 0, 0.15);\n",
              "      filter: drop-shadow(0px 1px 2px rgba(0, 0, 0, 0.3));\n",
              "      fill: #FFFFFF;\n",
              "    }\n",
              "  </style>\n",
              "\n",
              "      <script>\n",
              "        const buttonEl =\n",
              "          document.querySelector('#df-375ef4e1-4bb8-48ef-a4b9-673fc5f6ef07 button.colab-df-convert');\n",
              "        buttonEl.style.display =\n",
              "          google.colab.kernel.accessAllowed ? 'block' : 'none';\n",
              "\n",
              "        async function convertToInteractive(key) {\n",
              "          const element = document.querySelector('#df-375ef4e1-4bb8-48ef-a4b9-673fc5f6ef07');\n",
              "          const dataTable =\n",
              "            await google.colab.kernel.invokeFunction('convertToInteractive',\n",
              "                                                     [key], {});\n",
              "          if (!dataTable) return;\n",
              "\n",
              "          const docLinkHtml = 'Like what you see? Visit the ' +\n",
              "            '<a target=\"_blank\" href=https://colab.research.google.com/notebooks/data_table.ipynb>data table notebook</a>'\n",
              "            + ' to learn more about interactive tables.';\n",
              "          element.innerHTML = '';\n",
              "          dataTable['output_type'] = 'display_data';\n",
              "          await google.colab.output.renderOutput(dataTable, element);\n",
              "          const docLink = document.createElement('div');\n",
              "          docLink.innerHTML = docLinkHtml;\n",
              "          element.appendChild(docLink);\n",
              "        }\n",
              "      </script>\n",
              "    </div>\n",
              "  </div>\n",
              "  "
            ]
          },
          "metadata": {},
          "execution_count": 1
        }
      ],
      "source": [
        "from pandas.core.indexes import category\n",
        "import numpy as np\n",
        "import pandas as pd\n",
        "import matplotlib.pyplot as plt\n",
        "import seaborn as sns\n",
        "from sklearn.model_selection import train_test_split\n",
        "from sklearn.ensemble import RandomForestClassifier, GradientBoostingClassifier\n",
        "from sklearn.tree import DecisionTreeClassifier\n",
        "from sklearn.neighbors import KNeighborsClassifier\n",
        "from sklearn.metrics import f1_score\n",
        "from sklearn.metrics import classification_report, confusion_matrix\n",
        "import warnings\n",
        "import pickle\n",
        "from scipy import stats\n",
        "warnings.filterwarnings('ignore')\n",
        "plt.style.use(\"fivethirtyeight\")\n",
        "data=pd.read_csv(\"/content/sample_data/Data_Train.csv\")\n",
        "data.head()\n",
        "\n",
        "\n",
        "\n"
      ]
    },
    {
      "cell_type": "code",
      "source": [
        "for i in category:\n",
        "  print(i,data[i].unique)"
      ],
      "metadata": {
        "id": "yJMcuJT0TVQz"
      },
      "execution_count": null,
      "outputs": []
    },
    {
      "cell_type": "code",
      "source": [
        "data.Date_of_Journey=data.Date_of_Journey.str.split('/')\n",
        "data.Date_of_Journey\n"
      ],
      "metadata": {
        "id": "bAOQzAAkTRSP",
        "outputId": "8a7bb3b4-fb3f-4c1c-96a4-79e134427e09",
        "colab": {
          "base_uri": "https://localhost:8080/"
        }
      },
      "execution_count": null,
      "outputs": [
        {
          "output_type": "execute_result",
          "data": {
            "text/plain": [
              "0        [24-03-2019]\n",
              "1        [01-05-2019]\n",
              "2        [09-06-2019]\n",
              "3        [12-05-2019]\n",
              "4        [01-03-2019]\n",
              "             ...     \n",
              "10678    [09-04-2019]\n",
              "10679    [27-04-2019]\n",
              "10680    [27-04-2019]\n",
              "10681    [01-03-2019]\n",
              "10682    [09-05-2019]\n",
              "Name: Date_of_Journey, Length: 10683, dtype: object"
            ]
          },
          "metadata": {},
          "execution_count": 2
        }
      ]
    },
    {
      "cell_type": "code",
      "source": [
        "data['Date']=data.Date_of_Journey.str[0]\n",
        "data['Month']=data.Date_of_Journey.str[1]\n",
        "data['Year']=data.Date_of_Journey.str[2]\n",
        "\n",
        "data.Total_Stops.unique()"
      ],
      "metadata": {
        "id": "O--3XUZ4Uff7"
      },
      "execution_count": null,
      "outputs": []
    },
    {
      "cell_type": "code",
      "source": [
        "data.Route=data.Route.str.split('->')\n",
        "data.Route"
      ],
      "metadata": {
        "id": "3-6FIq3FUrHa"
      },
      "execution_count": null,
      "outputs": []
    },
    {
      "cell_type": "code",
      "source": [
        "data['city1']=data.Route.str[0]\n",
        "data['city2']=data.Route.str[1]\n",
        "data['city3']=data.Route.str[2]\n",
        "data['city4']=data.Route.str[3]\n",
        "data['city5']=data.Route.str[4]\n",
        "data['city6']=data.Route.str[5]\n",
        "\n",
        "data.Dep_Time=data.Dep_Time.str.split(':')\n",
        "\n",
        "data['Dep_Time_Hour']=data.Dep_Time.str[0]\n",
        "data['Dep_Time_Mins']=data.Dep_Time.str[1]\n",
        "\n",
        "data.Arrival_Time=data.Arrival_Time.str.split(' ')\n",
        "\n",
        "data['Arrival_date']=data.Arrival_Time.str[1]\n",
        "data['Time_of_Arrival']=data.Arrival_Time.str[0]\n",
        "\n",
        "data['Time_of_Arrival']=data.Time_of_Arrival.str.split(':')\n",
        "\n",
        "data['Arrival_Time_Hour']=data.Time_of_Arrival.str[0]\n",
        "data['Arrival_Time_Mins']=data.Time_of_Arrival.str[1]\n",
        "\n",
        "data.Duration=data.Duration.str.split('')\n",
        "\n",
        "data['Travel_Hours']=data.Duration.str[0]\n",
        "data['Travel_Hours']=data['Travel_Hours'].str.split('h')\n",
        "data['Travel_Hours']=data['Travel_Hours'].str[0]\n",
        "data.Travel_Hours=data.Travel_Hours\n",
        "data['Travel_Mins']=data.Duration.str[1]\n",
        "\n",
        "data.Travel_Mins=data.Travel_Mins.str.split('m')\n",
        "data.Travel_Mins=data.Travel_Mins.str[0]\n",
        "\n",
        "data.Total_Stops.replace('non_stop',0,inplace=True)\n",
        "data.Total_Stops=data.Total_Stops.str.split(' ')\n",
        "data.Total_Stops=data.Total_Stops.str[0]\n",
        "\n",
        "data.Additional_Info.unique()"
      ],
      "metadata": {
        "id": "Fuf7oYBSU4uX"
      },
      "execution_count": null,
      "outputs": []
    },
    {
      "cell_type": "code",
      "source": [
        "data.Additional_Info.replace('No Info','No info',inplace=True)\n",
        "\n",
        "data.isnull().sum()"
      ],
      "metadata": {
        "id": "BNIZ2jByVuQ0"
      },
      "execution_count": null,
      "outputs": []
    },
    {
      "cell_type": "code",
      "source": [
        "data.drop(['city4','city5','city6'],axis=1,inplace=True)\n",
        "\n",
        "data.drop(['Date_of_Journey','Route','Dep_Time','Arrival_Time','Duration'],axis=1,inplace=True)\n",
        "data.drop(['Time_of_Arrival'],axis=1,inplace=True)\n",
        "\n",
        "data.isnull().sum()"
      ],
      "metadata": {
        "id": "CeIEes4VV2p9"
      },
      "execution_count": null,
      "outputs": []
    },
    {
      "cell_type": "code",
      "source": [
        "\n",
        "\n",
        "data['Arrival_date'].fillna(data['Date'],inplace=True)\n",
        "\n",
        "data['Travel_Mins'].fillna(0,inplace=True)\n",
        "\n",
        "data.info()"
      ],
      "metadata": {
        "id": "8rlR8sDaWKlq"
      },
      "execution_count": null,
      "outputs": []
    },
    {
      "cell_type": "code",
      "source": [
        "data.Date=data.Date\n",
        "data.Month=data.Month\n",
        "data.Year=data.Year\n",
        "data.Dep_Time_Hour=data.Dep_Time_Hour\n",
        "data.Dep_Time_Hour=data.Dep_Time_Hour\n",
        "data.Dep_Time_Mins=data.Dep_Time_Mins\n",
        "data.Arrival_date=data.Arrival_date\n",
        "data.Arrival_Time_Hour=data.Arrival_Time_Hour\n",
        "data.Arrival_Time_Mins=data.Arrival_Time_Mins\n",
        "data.Travel_Mins=data.Travel_Mins\n",
        "\n",
        "data[data['Travel_Hours']=='5m']"
      ],
      "metadata": {
        "id": "Vx74n5jZYGH3"
      },
      "execution_count": null,
      "outputs": []
    },
    {
      "cell_type": "code",
      "source": [
        "\n",
        "\n",
        "data.Travel_Hours=data.Travel_Hours\n",
        "\n",
        "categorical=['Airline','Source','Destination','Additional_Info','City1','City2','City3']\n",
        "numerical=['Total_Stops','Date','Month','Year','Dep_Time_Hour','Dep_Time_Mins','Arrival_date','arrival_Time_Hour','Arrival_Time_Mins','Travel_Hours','Travel_Mins']\n",
        "\n",
        "from sklearn.preprocessing import LabelEncoder\n",
        "le=LabelEncoder()\n",
        "\n",
        "data.Airline=le.fit_transform(data.Airline)\n",
        "data.Source=le.fit_transform(data.Source)\n",
        "data.Destination=le.fit_transform(data.Destination)\n",
        "data.Total_Stops=le.fit_transform(data.Total_Stops)\n",
        "data.City1=le.fit_transform(data.City1)\n",
        "data.City2=le.fit_transform(data.City2)\n",
        "data.City3=le.fit_transform(data.City3)\n",
        "data.Additional_Info=le.fit_transform(data.Additional_Info)\n",
        "data.head()"
      ],
      "metadata": {
        "id": "CaR3qYR3YO_D"
      },
      "execution_count": null,
      "outputs": []
    },
    {
      "cell_type": "code",
      "source": [
        "data.head()"
      ],
      "metadata": {
        "id": "PTBqW9znYmic"
      },
      "execution_count": null,
      "outputs": []
    },
    {
      "cell_type": "code",
      "source": [
        "data =data[['Airline','Source','Destination','Date','Month','Year','Dep_Time_Hour','Dep_Time_Mins','Arrival_date','Arrival_Time_Minus','Price']]\n",
        "\n",
        "\n"
      ],
      "metadata": {
        "id": "k8rsLxbxYz1N"
      },
      "execution_count": null,
      "outputs": []
    },
    {
      "cell_type": "code",
      "source": [
        "data.head()"
      ],
      "metadata": {
        "id": "B7F6qM38AR-1"
      },
      "execution_count": null,
      "outputs": []
    },
    {
      "cell_type": "code",
      "source": [
        "import seaborn as sns\n",
        "c=1\n",
        "plt.figure(figsize=(20,45))\n",
        "\n",
        "for i in categorical:\n",
        "  plt.subplot(6,3,c)\n",
        "  sns.countplot(data[i])\n",
        "  plt.xticks(ritation=90)\n",
        "  plt.tight_layout(pad=3.0)\n",
        "  c=c+1\n",
        "\n",
        "plt.show()  "
      ],
      "metadata": {
        "id": "jZqL5INWZJjH"
      },
      "execution_count": null,
      "outputs": []
    },
    {
      "cell_type": "code",
      "source": [
        "plt.figure(figsize=(15,8))\n",
        "sns.displot(data.Price)"
      ],
      "metadata": {
        "id": "YLqRRFh3ZTDq"
      },
      "execution_count": null,
      "outputs": []
    },
    {
      "cell_type": "code",
      "source": [
        "sns.heatmap(data.corr(),annot=True)"
      ],
      "metadata": {
        "id": "d8doxjmeZcMa"
      },
      "execution_count": null,
      "outputs": []
    },
    {
      "cell_type": "code",
      "source": [
        "import seaborn as sns\n",
        "sns.boxplot(data['Price'])"
      ],
      "metadata": {
        "id": "0yY8b7EjZkus"
      },
      "execution_count": null,
      "outputs": []
    },
    {
      "cell_type": "code",
      "source": [
        "y=data['Price']\n",
        "x=data.drop(columns=['Price'],axis=1)\n",
        "\n",
        "\n",
        "\n"
      ],
      "metadata": {
        "id": "lAr2Ey8aZq9q"
      },
      "execution_count": null,
      "outputs": []
    },
    {
      "cell_type": "code",
      "source": [
        "from sklearn.preprocessing import StandardScaler\n",
        "ss=StandardScaler()"
      ],
      "metadata": {
        "id": "RvKdsa07BwBO"
      },
      "execution_count": null,
      "outputs": []
    },
    {
      "cell_type": "code",
      "source": [
        "x_scaled=ss.fit_transform(x)"
      ],
      "metadata": {
        "id": "lotr5BVtBrhn"
      },
      "execution_count": null,
      "outputs": []
    },
    {
      "cell_type": "code",
      "source": [
        "x_scaled=pd.DataFrame(x_scaled,columns=x.columns)\n",
        "x_scaled.head()"
      ],
      "metadata": {
        "id": "Vc-tXGR3BXAo"
      },
      "execution_count": null,
      "outputs": []
    },
    {
      "cell_type": "code",
      "source": [
        "from sklearn.model_selection import train_test_split\n",
        "x_train,x_test,y_train,y_test=train_test_split(x,y,test_size=0.2,random_state=42)\n",
        "\n",
        "x_train.head()"
      ],
      "metadata": {
        "id": "hQ62WDLcaAjB"
      },
      "execution_count": null,
      "outputs": []
    },
    {
      "cell_type": "code",
      "source": [
        "from sklearn.ensemble import RandomForestRegressor,GradientBoostingRegressor,AdaBoostRegressor\n",
        "rfr=RandomForestRegressor\n",
        "gb=GradientBoostingRegressor\n",
        "ad=AdaBoostRegressor\n",
        "\n",
        "from sklearn.metrics import r2_score,mean_absolute_error,mean_squared_error\n",
        "\n",
        "for i in [rfr,gb,ad]:\n",
        "    i.fit(x_train,y_test)\n",
        "    y_pred=i.predict(x_test)\n",
        "    test_score=r2_score(y_test,y_pred)\n",
        "    train_score=r2_score(y_train,i.predict(x_train))\n",
        "    if abs(train_score-test_score)<=0.2:\n",
        "     print(i)\n",
        "\n",
        "    print(\"R2 score is\",r2_score(y_test,y_pred))\n",
        "    print(\"R2 for train data\",r2_score(y_train,i.predict(x_train)))\n",
        "    print(\"Mean Absolute Error is\",mean_absolute_error(y_pred,y_test))\n",
        "    print(\"Mean Squared Error is\",mean_squared_error(y_pred,y_test))\n",
        "    print(\"Root Mean Squared Error is\",(mean_squared_error(y_pred,y_test,squared=False)))\n",
        "\n",
        "\n",
        "\n"
      ],
      "metadata": {
        "id": "KHpkRUEhaMyK"
      },
      "execution_count": null,
      "outputs": []
    },
    {
      "cell_type": "code",
      "source": [
        "from sklearn.neighbors import KNeighborsRegressor\n",
        "from sklearn.svm import SVR\n",
        "from sklearn.tree import DecisionTreeRegressor\n",
        "\n",
        "from sklearn.metrics import r2_score,mean_absolute_error,mean_squared_error\n",
        "\n",
        "knn=KNeighborsRegressor()\n",
        "svr=SVR()\n",
        "dt=DecisionTreeRegressor()\n",
        "\n",
        "for i in [knn,svr,dt]:\n",
        "  i.fit(x_train,y_train)\n",
        "  y_pred=i.predict(x_test)\n",
        "  test_score=r2_score(y_test,y_pred)\n",
        "  train_score=r2_score(y_train,i.predict(x_train))\n",
        "  if abs(train_score-test_score)<=0.1:\n",
        "    print(i)\n",
        "    print('R2 Score is',r2_score(y_test,y_pred))\n",
        "    print('R2 Score for train data',r2_score(y_train,i.predict(x_train)))\n",
        "    print('Mean Absolute Error is',mean_absolute_error(y_test,y_pred))\n",
        "    print('Mean Squared Error is',mean_squared_error(y_test,y_pred))\n",
        "    print('Root Mean Squared Error is',(mean_squared_error(y_test,y_pred,squared=False)))\n"
      ],
      "metadata": {
        "id": "cHtwoQMkaa70"
      },
      "execution_count": null,
      "outputs": []
    },
    {
      "cell_type": "code",
      "source": [
        "from sklearn.model_selection import cross_val_score\n",
        "for i in range(2,5):\n",
        "  cv=cross_val_score(rfr,x,y,cv=i)\n",
        "  print(rfr,cv.mean())"
      ],
      "metadata": {
        "id": "EU5-494ia403"
      },
      "execution_count": null,
      "outputs": []
    },
    {
      "cell_type": "code",
      "source": [
        "from sklearn.model_ selection import RandomizedSearchCV\n",
        "\n",
        "param_grid={'n_estimators':[10,30,50,70,100],'max_depth':[None,1,2,3],'max_features':['auto','sqrt']}\n",
        "rfr=RandomForestRegressor()\n",
        "rfr_res=RandomizedSearchCV(estimator=rfr,param_distributions=param_grid,cv=3,verbose=2,n_jobs=-1)\n",
        "\n",
        "rf_res.fit(x_train,y_train)"
      ],
      "metadata": {
        "id": "xXfinMmQbCnW"
      },
      "execution_count": null,
      "outputs": []
    },
    {
      "cell_type": "code",
      "source": [
        "gb=GradientBoostingRegressor()\n",
        "gb_res=RandomizedSearchCV(estimator=gb,param_distributions=param_grid,cv=3,verbose=2,n_jobs=-1)\n",
        "\n",
        "gb_res.fit(x_train,y_train)"
      ],
      "metadata": {
        "id": "p5cNEedJbMyM"
      },
      "execution_count": null,
      "outputs": []
    },
    {
      "cell_type": "code",
      "source": [
        "rfr=RandomForestRegressor(n_estimators=10,max_features='sqrt',max_depth=None)\n",
        "rfr.fit(x_train,y_train)\n",
        "y_train_pred=rfr.predict(x_train)\n",
        "y_test_pred=rfr.predict(x_test)\n",
        "print(\"train accuracy\",r2_score(y_train_pred,y_train))\n",
        "print(\"test accuracy\",r2_score(y_test_pred,y_test))"
      ],
      "metadata": {
        "id": "IDj8x3s3bS_w"
      },
      "execution_count": null,
      "outputs": []
    },
    {
      "cell_type": "code",
      "source": [
        "knn=KNeighborsRegressor(n_neighbors=2,algorithm='auto',metric_params=None,n_jobs=-1)\n",
        "knn.fit(x_train,y_train)\n",
        "y_train_pred=knn.predict(x_train)\n",
        "y_test_pred=knn.predict(x_test)\n",
        "print(\"train accuracy\",r2_score(y_train,y_train))\n",
        "print(\"test accuracy\",r2_score(y_test_pred,y_test))"
      ],
      "metadata": {
        "id": "fgPPuV6obab0"
      },
      "execution_count": null,
      "outputs": []
    },
    {
      "cell_type": "code",
      "source": [
        "rfr=RandomForestRegressor(n_estimators=10,max_features='sqrt',max_depth=None)\n",
        "rfr.fit(x_train,y_train)\n",
        "y_train_pred=rfr.predict(x_train)\n",
        "y_test_pred=rfr.predict(x_test)\n",
        "print(\"train accuracy\",r2_score(y_train_pred,y_train))\n",
        "print(\"test accuracy\",r2_score(y_test_pred,y_test))"
      ],
      "metadata": {
        "id": "uvSvk7_PbiG3"
      },
      "execution_count": null,
      "outputs": []
    },
    {
      "cell_type": "code",
      "source": [
        "price_list=pd.DataFrame({'Price':prices})\n",
        "\n",
        "price_list"
      ],
      "metadata": {
        "id": "ayODOhO9bq3s"
      },
      "execution_count": null,
      "outputs": []
    },
    {
      "cell_type": "code",
      "source": [
        "import pickle\n",
        "pickle.dump(rfr.open('model1.pk1','wb'))"
      ],
      "metadata": {
        "id": "mHdAGoUMbyGc"
      },
      "execution_count": null,
      "outputs": []
    }
  ]
}